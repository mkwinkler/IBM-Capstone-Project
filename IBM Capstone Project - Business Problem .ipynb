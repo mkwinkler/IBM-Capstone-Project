{
    "cells": [
        {
            "cell_type": "markdown",
            "metadata": {
                "collapsed": true
            },
            "source": "### Business Problem \n\nA wealthy entrepreneur has approached our firm, looking for recommendations on where to start a new business. He would like to set up a business in Toronto, he is indifferent to the type of business but wishes for it to be popular in nature and potentially underserviced within the market. The task is to analyse the current venue types/ categories in the marketplace, determine which venue types may be overly competitive and which venue types might be popular, but under-represented within the marketplace. That is, is there a type of venue in the marketplace that is popular, but does not have a high number of competitors? Once this business category has been identified, locate potential geographic regions that may be underserviced within Toronto. \n\nThere are three key objects; \n\n1. Identify popular venue types\n2. Determine if any popular venue types have a low venue count\n3. Identify underserviced geographic regions of popular venue types with a low venue count"
        },
        {
            "cell_type": "markdown",
            "metadata": {},
            "source": "### Data Sources\n\nData was collected from the three sources;\n\n1. Toronto List of Suburbs: Scrapped from Wikipedia: https://en.wikipedia.org/wiki/List_of_postal_codes_of_Canada:_M\"  \n2. Geospatial Data: Sourced from Coursea: \n3. Foursquare Data: Attained through API"
        }
    ],
    "metadata": {
        "kernelspec": {
            "display_name": "Python 3.6",
            "language": "python",
            "name": "python3"
        },
        "language_info": {
            "codemirror_mode": {
                "name": "ipython",
                "version": 3
            },
            "file_extension": ".py",
            "mimetype": "text/x-python",
            "name": "python",
            "nbconvert_exporter": "python",
            "pygments_lexer": "ipython3",
            "version": "3.6.8"
        }
    },
    "nbformat": 4,
    "nbformat_minor": 1
}